{
 "cells": [
  {
   "cell_type": "markdown",
   "metadata": {},
   "source": [
    "API em URL Público\n",
    "Criação de uma conta no site da https://ngrok.com/\n",
    "\n",
    "Pós-criação, copiar a API_KEY do link: https://dashboard.ngrok.com/get-started/your-authtoken\n",
    "\n",
    "Criar um dominio no Ngrok https://dashboard.ngrok.com/cloud-edge/domains"
   ]
  },
  {
   "cell_type": "markdown",
   "metadata": {},
   "source": [
    "Variáveis de ambiente\n",
    "É necessário criar duas secrets aqui no colab (Ícone de chave na lateral direita do menu)\n",
    "\n",
    "As chaves necessárias são:\n",
    "\n",
    "NGROK_TOKEN\n",
    "NGROK_DOMAIN"
   ]
  },
  {
   "cell_type": "code",
   "execution_count": null,
   "metadata": {
    "vscode": {
     "languageId": "plaintext"
    }
   },
   "outputs": [],
   "source": [
    "from google.colab import userdata\n",
    "\n",
    "# Token de acesso ao Ngrok\n",
    "NGROK_API_KEY = userdata.get('NGROK_TOKEN')\n",
    "\n",
    "# Dominio criado no Ngrok\n",
    "NGROK_DOMAIN = userdata.get('NGROK_DOMAIN')\n",
    "\n",
    "# Escolha do modelo Ollama para uso\n",
    "MODEL_NAME_OLLAMA = 'mistral'"
   ]
  },
  {
   "cell_type": "markdown",
   "metadata": {},
   "source": [
    "Instalação de Ollama no Google Colab Server"
   ]
  },
  {
   "cell_type": "code",
   "execution_count": null,
   "metadata": {
    "vscode": {
     "languageId": "plaintext"
    }
   },
   "outputs": [],
   "source": [
    "# Download and install ollama to the system\n",
    "# Instale os pré-requisitos no Colab\n",
    "!apt-get update && apt-get install -y curl sudo\n",
    "\n",
    "# Baixe o script e modifique para evitar erros relacionados ao systemd\n",
    "!curl https://ollama.ai/install.sh -o install.sh\n",
    "!sed -i 's/Creating ollama systemd service.*//g' install.sh\n",
    "!sed -i 's/systemctl.*//g' install.sh\n",
    "\n",
    "# Execute o script modificado\n",
    "!bash install.sh\n"
   ]
  },
  {
   "cell_type": "markdown",
   "metadata": {},
   "source": [
    "Instalação de pacotes Python"
   ]
  },
  {
   "cell_type": "code",
   "execution_count": null,
   "metadata": {
    "vscode": {
     "languageId": "plaintext"
    }
   },
   "outputs": [],
   "source": [
    "# execução e criação da API\n",
    "import os\n",
    "import asyncio\n",
    "\n",
    "# Set LD_LIBRARY_PATH so the system NVIDIA library\n",
    "os.environ.update({'LD_LIBRARY_PATH': '/usr/lib64-nvidia'})\n",
    "\n",
    "os.environ['OLLAMA_HOST'] = '0.0.0.0'\n",
    "\n",
    "\n",
    "async def run_process(cmd):\n",
    "  print('>>> starting', *cmd)\n",
    "  p = await asyncio.subprocess.create_subprocess_exec(\n",
    "      *cmd,\n",
    "      stdout=asyncio.subprocess.PIPE,\n",
    "      stderr=asyncio.subprocess.PIPE,\n",
    "  )\n",
    "\n",
    "  async def pipe(lines):\n",
    "    async for line in lines:\n",
    "      print(line.strip().decode('utf-8'))\n",
    "\n",
    "  await asyncio.gather(\n",
    "      pipe(p.stdout),\n",
    "      pipe(p.stderr),\n",
    "  )\n",
    "\n",
    "#register an account at ngrok.com and create an authtoken and place it here\n",
    "await asyncio.gather(\n",
    "    run_process(['ngrok', 'config', 'add-authtoken', NGROK_API_KEY])\n",
    ")\n",
    "\n",
    "await asyncio.gather(\n",
    "    run_process(['ollama', 'serve']),\n",
    "    run_process(['ollama', 'run', MODEL_NAME_OLLAMA]),\n",
    "    run_process(['ngrok', 'http', f'--domain={NGROK_DOMAIN}', '--log', 'stderr', '11434']),\n",
    ")"
   ]
  },
  {
   "cell_type": "code",
   "execution_count": null,
   "metadata": {
    "vscode": {
     "languageId": "plaintext"
    }
   },
   "outputs": [],
   "source": [
    "!pip install -qU aiohttp pyngrok"
   ]
  }
 ],
 "metadata": {
  "language_info": {
   "name": "python"
  }
 },
 "nbformat": 4,
 "nbformat_minor": 2
}
